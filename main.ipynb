{
 "cells": [
  {
   "cell_type": "markdown",
   "metadata": {},
   "source": [
    "# Section 1: Introduction to FlowDroid for Taint Analysis"
   ]
  },
  {
   "cell_type": "markdown",
   "metadata": {},
   "source": [
    "## Research Android App Components"
   ]
  },
  {
   "cell_type": "markdown",
   "metadata": {},
   "source": [
    "## Understand FlowDroid and Configuration Options"
   ]
  },
  {
   "cell_type": "markdown",
   "metadata": {},
   "source": [
    "we can see that flowdroid has many options that can be used"
   ]
  },
  {
   "cell_type": "code",
   "execution_count": 3,
   "metadata": {
    "vscode": {
     "languageId": "shellscript"
    }
   },
   "outputs": [
    {
     "data": {
      "text/plain": [
       "['usage: soot-infoflow-cmd [OPTIONS]',\n",
       " ' -?,--help                                Print this help message',\n",
       " ' -a,--apkfile <arg>                       APK file to analyze',\n",
       " ' -aa,--aliasalgo <arg>                    Use the specified aliasing',\n",
       " '                                          algorithm (NONE, FLOWSENSITIVE,',\n",
       " '                                          PTSBASED, LAZY)',\n",
       " ' -ac,--additionalclasspath <arg>          Additional JAR file that shal be',\n",
       " '                                          put on the classpath',\n",
       " ' -af,--aliasflowins                       Use a flow-insensitive alias',\n",
       " '                                          analysis',\n",
       " ' -al,--aplength <arg>                     Maximum access path length',\n",
       " ' -c,--configfile <arg>                    Use the given configuration file',\n",
       " ' -ca,--callbackanalyzer <arg>             Use the specified callback',\n",
       " '                                          analyzer (DEFAULT, FAST)',\n",
       " ' -ce,--codeelimination <arg>              Use the specified code',\n",
       " '                                          elimination algorithm (NONE,',\n",
       " '                                          PROPAGATECONSTS, REMOVECODE)',\n",
       " ' -cf,--callgraphdir <arg>                 The file in which to store and',\n",
       " '                                          from which to read serialized',\n",
       " '                                          callgraphs',\n",
       " ' -cg,--cgalgo <arg>                       Callgraph algorithm to use',\n",
       " '                                          (AUTO, CHA, VTA, RTA, SPARK,',\n",
       " '                                          GEOM)',\n",
       " ' -cp,--paths                              Compute the taint propagation',\n",
       " '                                          paths and not just',\n",
       " '                                          source-to-sink connections. This',\n",
       " '                                          is a shorthand notation for -pr',\n",
       " '                                          fast.',\n",
       " ' -cs,--callbacksourcemode <arg>           Use the specified mode for',\n",
       " '                                          defining which callbacks',\n",
       " '                                          introduce which sources (NONE,',\n",
       " '                                          ALL, SOURCELIST)',\n",
       " ' -ct,--callbacktimeout <arg>              Timeout for the callback',\n",
       " '                                          collection phase',\n",
       " ' -d,--mergedexfiles                       Merge all dex files in the given',\n",
       " '                                          APK file into one analysis',\n",
       " '                                          target',\n",
       " ' -dir,--direction <arg>                   Specifies the direction of the',\n",
       " '                                          infoflow analysis (FORWARDS,',\n",
       " '                                          BACKWARDS)',\n",
       " ' -ds,--dataflowsolver <arg>               Use the specified data flow',\n",
       " '                                          solver (CONTEXTFLOWSENSITIVE,',\n",
       " '                                          FLOWINSENSITIVE)',\n",
       " ' -dt,--timeout <arg>                      Timeout for the main data flow',\n",
       " '                                          analysis',\n",
       " ' -ff,--analyzeframeworks                  Analyze the full frameworks',\n",
       " '                                          together with the app without',\n",
       " '                                          any optimizations',\n",
       " ' -i,--implicit <arg>                      Use the specified mode when',\n",
       " '                                          processing implicit data flows',\n",
       " '                                          (NONE, ARRAYONLY, ALL)',\n",
       " ' -im,--iccmodel <arg>                     File containing the',\n",
       " '                                          inter-component data flow model',\n",
       " '                                          (ICC model)',\n",
       " ' -l,--layoutmode <arg>                    Mode for considerung layout',\n",
       " '                                          controls as sources (NONE, PWD,',\n",
       " '                                          ALL)',\n",
       " ' -ls,--logsourcesandsinks                 Write the discovered sources and',\n",
       " '                                          sinks to the log output',\n",
       " ' -mc,--maxcallbackspercomponent <arg>     Eliminate Android components',\n",
       " '                                          that have more than the given',\n",
       " '                                          number of callbacks',\n",
       " ' -md,--maxcallbacksdepth <arg>            Only analyze callback chains up',\n",
       " '                                          to the given depth',\n",
       " ' -ms,--missingsummariesoutputfile <arg>   Outputs a file with information',\n",
       " '                                          about which summaries are',\n",
       " '                                          missing',\n",
       " ' -mt,--maxthreadnum <arg>                 Limit the maximum number of',\n",
       " '                                          threads to the given value',\n",
       " ' -nc,--nocallbacks                        Do not analyze Android callbacks',\n",
       " ' -ne,--noexceptions                       Do not track taints across',\n",
       " '                                          exceptional control flow edges',\n",
       " ' -np,--noiccresultspurify                 Do not purify the ICC results,',\n",
       " '                                          i.e., do not remove simple flows',\n",
       " '                                          that also have a corresponding',\n",
       " '                                          ICC flow',\n",
       " ' -nr,--nothischainreduction               Disable reduction of inner class',\n",
       " '                                          chains',\n",
       " ' -ns,--nostatic                           Do not track static data flows',\n",
       " ' -nt,--notypechecking                     Disable type checking during',\n",
       " '                                          taint propagation',\n",
       " ' -o,--outputfile <arg>                    Output XML file for the',\n",
       " '                                          discovered data flows',\n",
       " ' -ol,--outputlinenumbers                  Enable the output of bytecode',\n",
       " '                                          line numbers associated with',\n",
       " '                                          sources and sinks in XML results',\n",
       " ' -on,--originalnames                      Enable the usage of original',\n",
       " '                                          variablenames if available',\n",
       " ' -os,--onesourceatatime                   Analyze one source at a time',\n",
       " ' -ot,--onecomponentatatime                Analyze one Android component at',\n",
       " '                                          a time',\n",
       " ' -p,--platformsdir <arg>                  Path to the platforms directory',\n",
       " '                                          from the Android SDK',\n",
       " ' -pa,--pathalgo <arg>                     Use the specified algorithm for',\n",
       " '                                          computing result paths',\n",
       " '                                          (CONTEXTSENSITIVE,',\n",
       " '                                          CONTEXTINSENSITIVE, SOURCESONLY)',\n",
       " ' -pr,--pathreconstructionmode <arg>       Use the specified mode for',\n",
       " '                                          reconstructing taint propagation',\n",
       " '                                          paths (NONE, FAST, PRECISE).',\n",
       " ' -ps,--pathspecificresults                Report different results for',\n",
       " '                                          same source/sink pairs if they',\n",
       " '                                          differ in their propagation',\n",
       " '                                          paths',\n",
       " ' -r,--enablereflection                    Enable support for reflective',\n",
       " '                                          method calls',\n",
       " ' -rt,--resulttimeout <arg>                Timeout for the result',\n",
       " '                                          collection phase',\n",
       " ' -s,--sourcessinksfile <arg>              Definition file for sources and',\n",
       " '                                          sinks',\n",
       " ' -sa,--singlejoinpointabstraction         Only use a single abstraction at',\n",
       " '                                          join points, i.e., do not',\n",
       " '                                          support multiple sources for one',\n",
       " '                                          value',\n",
       " ' -sf,--staticmode <arg>                   Use the specified mode when',\n",
       " '                                          tracking static data flows',\n",
       " '                                          (CONTEXTFLOWSENSITIVE,',\n",
       " '                                          CONTEXTFLOWINSENSITIVE, NONE)',\n",
       " ' -si,--skipapkfile <arg>                  APK file to skip when processing',\n",
       " '                                          a directory of input files',\n",
       " ' -sp,--sequentialpathprocessing           Process the result paths',\n",
       " '                                          sequentially instead of in',\n",
       " '                                          parallel',\n",
       " ' -st,--gcsleeptime <arg>                  Specifies the sleep time for',\n",
       " '                                          path edge collectors in seconds',\n",
       " ' -t,--taintwrapperfile <arg>              Definition file for the taint',\n",
       " '                                          wrapper',\n",
       " ' -tw,--taintwrapper <arg>                 Use the specified taint wrapper',\n",
       " '                                          algorithm (NONE, EASY,',\n",
       " '                                          STUBDROID, MULTI)',\n",
       " ' -wj,--writejimplefiles <arg>             Write out the Jimple files',\n",
       " ' -x,--callgraphonly                       Only compute the callgraph and',\n",
       " '                                          terminate']"
      ]
     },
     "execution_count": 3,
     "metadata": {},
     "output_type": "execute_result"
    }
   ],
   "source": [
    "%%!\n",
    "java -jar soot-infoflow-cmd-2.13.0-jar-with-dependencies.jar --help"
   ]
  },
  {
   "cell_type": "markdown",
   "metadata": {},
   "source": [
    "the options regarding timeout are the following"
   ]
  },
  {
   "cell_type": "code",
   "execution_count": 5,
   "metadata": {
    "vscode": {
     "languageId": "shellscript"
    }
   },
   "outputs": [
    {
     "data": {
      "text/plain": [
       "[' -ct,--callbacktimeout <arg>              Timeout for the callback',\n",
       " ' -dt,--timeout <arg>                      Timeout for the main data flow',\n",
       " ' -rt,--resulttimeout <arg>                Timeout for the result']"
      ]
     },
     "execution_count": 5,
     "metadata": {},
     "output_type": "execute_result"
    }
   ],
   "source": [
    "%%!\n",
    "java -jar soot-infoflow-cmd-2.13.0-jar-with-dependencies.jar | grep timeout"
   ]
  },
  {
   "cell_type": "markdown",
   "metadata": {
    "vscode": {
     "languageId": "shellscript"
    }
   },
   "source": [
    "You can also define timeouts:\n",
    "\n",
    "-dt N Aborts the data flow analysis after N seconds and returns the results obtained so far.\n",
    "-ct N Aborts the callback collection during callgraph construction after N seconds and continues with the (incomplete) callgraph constructed so far.\n",
    "\n",
    "\n",
    "In **FlowDroid**, these options allow us to set timeouts for various phases of its static analysis process. Timeouts are used to ensure that the analysis doesn't hang indefinitely or take an excessively long time on complex code. Here's what each option does:\n",
    "\n",
    "1. **`-ct`, `--callbacktimeout <arg>`**:\n",
    "    Sets a timeout for analyzing callback methods in the app. Callbacks (e.g., `onClick`, `onResume`) are entry points triggered by the Android framework. We use this to limit the time spent on individual callback methods (which may become overly complex in large or obfuscated apps) during the callgraph construction and we continue with the incomplete callgraph constructed so far.\n",
    "\n",
    "2. **`-dt`, `--timeout <arg>`**:\n",
    "    Sets a timeout for analyzing the main data flow in the application. The main data flow analysis tracks the flow of sensitive information (e.g., from sources to sinks) throughout the app. We use this to ensure the tool doesn't analyze indefinitely in cases of massive data flows or overly complex dependencies.\n",
    "\n",
    "3. **`-rt`, `--resulttimeout <arg>`**:\n",
    "    Sets a timeout for generating and reporting the analysis results. After completing the analysis, FlowDroid generates a result (e.g., a report of identified leaks). If this step takes too long (e.g., due to the volume of findings), the timeout ensures it gets terminated.\n",
    "\n",
    "`<arg>` is in seconds"
   ]
  },
  {
   "cell_type": "markdown",
   "metadata": {},
   "source": [
    "## Identify Sources and Sinks\n",
    "we decided to use flowdroid's default sources and sinks list found in the repository "
   ]
  },
  {
   "cell_type": "code",
   "execution_count": 6,
   "metadata": {
    "vscode": {
     "languageId": "shellscript"
    }
   },
   "outputs": [
    {
     "data": {
      "text/plain": [
       "['<javax.servlet.ServletRequest: java.lang.String getParameter(java.lang.String)> -> _SOURCE_',\n",
       " '<javax.persistence.EntityManager: javax.persistence.TypedQuery createQuery(java.lang.String,java.lang.Class)> -> _SINK_',\n",
       " '<javax.servlet.http.HttpServletResponse: void sendRedirect(java.lang.String)> -> _SINK_',\n",
       " '<java.io.File: boolean delete()> -> _SINK_',\n",
       " '']"
      ]
     },
     "execution_count": 6,
     "metadata": {},
     "output_type": "execute_result"
    }
   ],
   "source": [
    "%%!\n",
    "head -n 5 SourcesAndSinks.txt"
   ]
  },
  {
   "cell_type": "markdown",
   "metadata": {
    "vscode": {
     "languageId": "shellscript"
    }
   },
   "source": [
    "## Run FlowDroid Analysis\n",
    "For each APK, perform three separate analyses by setting different\n",
    "timeout values—1 minute, 5 minutes, and 20 minutes. Each APK should thus be analyzed three times.\n",
    "\n",
    "To performe the above the following script was used"
   ]
  },
  {
   "cell_type": "code",
   "execution_count": 11,
   "metadata": {
    "vscode": {
     "languageId": "shellscript"
    }
   },
   "outputs": [
    {
     "data": {
      "text/plain": [
       "['#!/bin/bash',\n",
       " '',\n",
       " '# Paths (Modify these paths according to your environment)',\n",
       " 'FLOWDROID_JAR=\"soot-infoflow-cmd-2.13.0-jar-with-dependencies.jar\"',\n",
       " 'PLATFORMS_DIR=\"./tools\"',\n",
       " 'SOURCES_AND_SINKS=\"./SourcesAndSinks.txt\"',\n",
       " 'APK_DIR=\"./APKs\"',\n",
       " '',\n",
       " '# Timeout settings in minutes',\n",
       " 'TIMEOUTS=(60 300 1200)',\n",
       " '',\n",
       " '# Create an array of APK files in the APK_DIR',\n",
       " 'APK_FILES=(\"$APK_DIR\"/*.apk)',\n",
       " '',\n",
       " '# Loop over each APK file',\n",
       " 'for APK_PATH in \"${APK_FILES[@]}\"; do',\n",
       " '    # Extract the APK filename without the directory path',\n",
       " '    APK_FILENAME=$(basename \"$APK_PATH\")',\n",
       " '    # Remove the .apk extension to get the base name',\n",
       " '    APK_NAME=\"${APK_FILENAME%.apk}\"',\n",
       " '',\n",
       " '    # Loop over each timeout setting',\n",
       " '    for TIMEOUT in \"${TIMEOUTS[@]}\"; do',\n",
       " '        # Output file name',\n",
       " '        OUTPUT_FILE=\"./outputs/${APK_NAME}-${TIMEOUT}min.xml\"',\n",
       " '',\n",
       " '        echo \"Analyzing ${APK_FILENAME} with a timeout of ${TIMEOUT} minute(s)...\"',\n",
       " '',\n",
       " '        # Run FlowDroid analysis and save the output to the file',\n",
       " '        java -jar \"$FLOWDROID_JAR\" \\\\',\n",
       " '            -a \"$APK_PATH\" \\\\',\n",
       " '            -p \"$PLATFORMS_DIR\" \\\\',\n",
       " '            -s \"$SOURCES_AND_SINKS\" \\\\',\n",
       " '            -dt \"$TIMEOUT\" -rt \"$TIMEOUT\" -ct \"$TIMEOUT\" \\\\',\n",
       " '            -o \"$OUTPUT_FILE\" &> \"${OUTPUT_FILE}.log\"',\n",
       " '',\n",
       " '        echo \"Output saved to ${OUTPUT_FILE}\"',\n",
       " '        echo \"---------------------------------------------\"',\n",
       " '    done',\n",
       " 'done',\n",
       " '',\n",
       " 'echo \"All analyses completed.\"']"
      ]
     },
     "execution_count": 11,
     "metadata": {},
     "output_type": "execute_result"
    }
   ],
   "source": [
    "%%!\n",
    "batcat flowdroid_v1.bash"
   ]
  },
  {
   "cell_type": "code",
   "execution_count": null,
   "metadata": {
    "vscode": {
     "languageId": "shellscript"
    }
   },
   "outputs": [],
   "source": [
    "%%!\n",
    "java -jar soot-infoflow-cmd-2.10.0-jar-with-dependencies.jar \\\n",
    "-a /home/yacine/Art/SDSA_Project/Project/APKs/com.hawaiianairlines.app.apk \\\n",
    "-o output.xml \\\n",
    "-p /home/yacine/Android/Sdk/platforms/ -s ./SourcesAndSinks.txt --timeout 10 \\"
   ]
  },
  {
   "cell_type": "markdown",
   "metadata": {},
   "source": [
    "might be worth it to try with this option   \n",
    "\n",
    " \"[main] WARN soot.dexpler.DexFileProvider - Multiple dex files detected, only processing 'classes.dex'. Use '-process-multiple-dex' option to process them all.\","
   ]
  },
  {
   "cell_type": "markdown",
   "metadata": {},
   "source": [
    "had problem with tado"
   ]
  },
  {
   "cell_type": "code",
   "execution_count": 17,
   "metadata": {
    "vscode": {
     "languageId": "shellscript"
    }
   },
   "outputs": [
    {
     "name": "stdout",
     "output_type": "stream",
     "text": [
      "Table created in leak_analysis_table.csv\n"
     ]
    }
   ],
   "source": [
    "%%bash\n",
    "#!/bin/bash\n",
    "\n",
    "# Output file for the table\n",
    "output_file=\"leak_analysis_table.csv\"\n",
    "\n",
    "# Create an associative array to hold the data\n",
    "declare -A table\n",
    "declare -A times_set\n",
    "apps_set=()\n",
    "\n",
    "# Process each log file\n",
    "for log_file in ./outputs/*.xml.log; do\n",
    "    # Extract app name\n",
    "    app_name=$(echo \"$log_file\" | awk -F '-' '{print $1}')\n",
    "    \n",
    "    # Extract execution time\n",
    "    exec_time=$(echo \"$log_file\" | awk -F '-' '{print $2}' | sed 's/min.xml.log//')min\n",
    "    \n",
    "    # Extract the number of leaks\n",
    "    \n",
    "    leaks_found=$(grep \"Found\" \"$log_file\" | awk '{print $(NF-1)}')\n",
    "    # Store the app name in the list of apps\n",
    "    if [[ ! \" ${apps_set[@]} \" =~ \" ${app_name} \" ]]; then\n",
    "        apps_set+=(\"$app_name\")\n",
    "    fi\n",
    "\n",
    "    # Mark the time for the header\n",
    "    times_set[\"$exec_time\"]=1\n",
    "\n",
    "    # Store the leaks found in the table\n",
    "    table[\"$app_name,$exec_time\"]=$leaks_found\n",
    "done\n",
    "\n",
    "# Create the header row\n",
    "echo -n \"apps\" > $output_file\n",
    "for time in $(echo \"${!times_set[@]}\" | tr ' ' '\\n' | sort -n); do\n",
    "    echo -n \",$time\" >> $output_file\n",
    "done\n",
    "echo \"\" >> $output_file\n",
    "\n",
    "# Populate the rows with app data\n",
    "for app in \"${apps_set[@]}\"; do\n",
    "    echo -n \"$app\" >> $output_file\n",
    "    for time in $(echo \"${!times_set[@]}\" | tr ' ' '\\n' | sort -n); do\n",
    "        leaks=${table[\"$app,$time\"]}\n",
    "        if [[ -z \"$leaks\" ]]; then\n",
    "            echo -n \",-\" >> $output_file\n",
    "        else\n",
    "            echo -n \",$leaks\" >> $output_file\n",
    "        fi\n",
    "    done\n",
    "    echo \"\" >> $output_file\n",
    "done\n",
    "\n",
    "echo \"Table created in $output_file\""
   ]
  },
  {
   "cell_type": "code",
   "execution_count": null,
   "metadata": {},
   "outputs": [
    {
     "data": {
      "text/html": [
       "<div>\n",
       "<style scoped>\n",
       "    .dataframe tbody tr th:only-of-type {\n",
       "        vertical-align: middle;\n",
       "    }\n",
       "\n",
       "    .dataframe tbody tr th {\n",
       "        vertical-align: top;\n",
       "    }\n",
       "\n",
       "    .dataframe thead th {\n",
       "        text-align: right;\n",
       "    }\n",
       "</style>\n",
       "<table border=\"1\" class=\"dataframe\">\n",
       "  <thead>\n",
       "    <tr style=\"text-align: right;\">\n",
       "      <th></th>\n",
       "      <th>apps</th>\n",
       "      <th>1min</th>\n",
       "      <th>5min</th>\n",
       "      <th>20min</th>\n",
       "    </tr>\n",
       "  </thead>\n",
       "  <tbody>\n",
       "    <tr>\n",
       "      <th>0</th>\n",
       "      <td>./outputs/com.delhi.metro.dtc</td>\n",
       "      <td>0</td>\n",
       "      <td>3</td>\n",
       "      <td>3</td>\n",
       "    </tr>\n",
       "    <tr>\n",
       "      <th>1</th>\n",
       "      <td>./outputs/com.hawaiianairlines.app</td>\n",
       "      <td>6</td>\n",
       "      <td>7</td>\n",
       "      <td>0</td>\n",
       "    </tr>\n",
       "    <tr>\n",
       "      <th>2</th>\n",
       "      <td>./outputs/com.imo.android.imoim</td>\n",
       "      <td>4</td>\n",
       "      <td>4</td>\n",
       "      <td>4</td>\n",
       "    </tr>\n",
       "    <tr>\n",
       "      <th>3</th>\n",
       "      <td>./outputs/com.tado</td>\n",
       "      <td>5</td>\n",
       "      <td>5</td>\n",
       "      <td>15</td>\n",
       "    </tr>\n",
       "    <tr>\n",
       "      <th>4</th>\n",
       "      <td>./outputs/com.walkme.azores.new</td>\n",
       "      <td>4</td>\n",
       "      <td>5</td>\n",
       "      <td>7</td>\n",
       "    </tr>\n",
       "    <tr>\n",
       "      <th>5</th>\n",
       "      <td>./outputs/com.wooxhome.smart</td>\n",
       "      <td>0</td>\n",
       "      <td>0</td>\n",
       "      <td>0</td>\n",
       "    </tr>\n",
       "    <tr>\n",
       "      <th>6</th>\n",
       "      <td>./outputs/com.yourdelivery.pyszne</td>\n",
       "      <td>2</td>\n",
       "      <td>2</td>\n",
       "      <td>3</td>\n",
       "    </tr>\n",
       "    <tr>\n",
       "      <th>7</th>\n",
       "      <td>./outputs/linko.home</td>\n",
       "      <td>5</td>\n",
       "      <td>24</td>\n",
       "      <td>24</td>\n",
       "    </tr>\n",
       "    <tr>\n",
       "      <th>8</th>\n",
       "      <td>./outputs/mynt.app</td>\n",
       "      <td>8</td>\n",
       "      <td>9</td>\n",
       "      <td>16</td>\n",
       "    </tr>\n",
       "    <tr>\n",
       "      <th>9</th>\n",
       "      <td>./outputs/nz.co.stuff.android.news</td>\n",
       "      <td>14</td>\n",
       "      <td>17</td>\n",
       "      <td>26</td>\n",
       "    </tr>\n",
       "  </tbody>\n",
       "</table>\n",
       "</div>"
      ],
      "text/plain": [
       "                                 apps  1min  5min  20min\n",
       "0       ./outputs/com.delhi.metro.dtc     0     3      3\n",
       "1  ./outputs/com.hawaiianairlines.app     6     7      0\n",
       "2     ./outputs/com.imo.android.imoim     4     4      4\n",
       "3                  ./outputs/com.tado     5     5     15\n",
       "4     ./outputs/com.walkme.azores.new     4     5      7\n",
       "5        ./outputs/com.wooxhome.smart     0     0      0\n",
       "6   ./outputs/com.yourdelivery.pyszne     2     2      3\n",
       "7                ./outputs/linko.home     5    24     24\n",
       "8                  ./outputs/mynt.app     8     9     16\n",
       "9  ./outputs/nz.co.stuff.android.news    14    17     26"
      ]
     },
     "execution_count": 19,
     "metadata": {},
     "output_type": "execute_result"
    }
   ],
   "source": [
    "import subprocess\n",
    "import pandas as pd\n",
    "\n",
    "# Step 1: Run the Bash script to generate the CSV file\n",
    "\n",
    "# Step 2: Load the generated CSV file\n",
    "output_file = \"leak_analysis_table.csv\"\n",
    "df = pd.read_csv(output_file)\n",
    "\n",
    "# Step 3: Display the DataFrame in the notebook\n",
    "df"
   ]
  }
 ],
 "metadata": {
  "kernelspec": {
   "display_name": "usr",
   "language": "python",
   "name": "python3"
  },
  "language_info": {
   "codemirror_mode": {
    "name": "ipython",
    "version": 3
   },
   "file_extension": ".py",
   "mimetype": "text/x-python",
   "name": "python",
   "nbconvert_exporter": "python",
   "pygments_lexer": "ipython3",
   "version": "3.10.12"
  }
 },
 "nbformat": 4,
 "nbformat_minor": 2
}
