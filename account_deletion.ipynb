{
 "cells": [
  {
   "cell_type": "markdown",
   "metadata": {},
   "source": [
    "# Section 2, R2\n",
    "\n",
    "The user should have the ability to delete their account. Imagine you are a\n",
    "security analyst tasked with assessing whether an Android app complies with this\n",
    "privacy requirement derived from regulations such as GDPR. "
   ]
  },
  {
   "cell_type": "code",
   "execution_count": 32,
   "metadata": {},
   "outputs": [],
   "source": [
    "import os\n",
    "import spacy\n",
    "import re\n",
    "from tqdm import tqdm\n",
    "\n",
    "# load spaCy's language model\n",
    "nlp = spacy.load('en_core_web_sm')\n",
    "\n",
    "SMALI_DIR = './SMALI_example'"
   ]
  },
  {
   "cell_type": "code",
   "execution_count": 33,
   "metadata": {},
   "outputs": [],
   "source": [
    "delete_patterns = ['delete', 'account', 'remove', 'acc', 'deleteAccount']"
   ]
  },
  {
   "cell_type": "code",
   "execution_count": 34,
   "metadata": {},
   "outputs": [],
   "source": [
    "def process_smali_file(file_path):\n",
    "    with open(file_path, 'r', encoding='utf-8', errors='ignore') as f:\n",
    "        content = f.read()\n",
    "        \n",
    "        doc = nlp(content)\n",
    "        \n",
    "        # Tokenize and lemmatize text to look for patterns\n",
    "        matches = []\n",
    "        for token in doc:\n",
    "            if token.lemma_.lower() in delete_patterns:\n",
    "                matches.append(token.lemma_)\n",
    "                print(\"Matched \", token)\n",
    "        \n",
    "        return matches"
   ]
  },
  {
   "cell_type": "code",
   "execution_count": 35,
   "metadata": {},
   "outputs": [],
   "source": [
    "def process_smali_files():\n",
    "    \"\"\"Process all .smali files with progress bar\"\"\"\n",
    "    # Get total number of .smali files for accurate progress bar\n",
    "    total_files = sum(len([f for f in files if f.endswith('.smali')])\n",
    "               for _, _, files in os.walk(SMALI_DIR))\n",
    "    \n",
    "    print(total_files)\n",
    "    \n",
    "    # Create progress bar\n",
    "    pbar = tqdm(total=total_files, desc=\"Processing .smali files\", unit=\"file\")\n",
    "    \n",
    "    try:\n",
    "        for root, _, files in os.walk(SMALI_DIR):\n",
    "    \n",
    "            for file in files:\n",
    "                if file.endswith(\".smali\"):\n",
    "                    file_path = os.path.join(root, file)\n",
    "                    \n",
    "                    found_matches = process_smali_file(file_path)\n",
    "                        \n",
    "                    # If matches are found, print the file and matched tokens\n",
    "                    if found_matches:\n",
    "                        print(f\"Found matches in {file_path}: {', '.join(found_matches)}\")\n",
    "                            \n",
    "                    # Update progress bar\n",
    "                    pbar.update(1)\n",
    "    \n",
    "    finally:\n",
    "        pbar.close()"
   ]
  },
  {
   "cell_type": "code",
   "execution_count": null,
   "metadata": {},
   "outputs": [
    {
     "name": "stdout",
     "output_type": "stream",
     "text": [
      "39958\n"
     ]
    },
    {
     "name": "stderr",
     "output_type": "stream",
     "text": [
      "Processing .smali files:   2%|▏         | 683/39958 [04:32<3:35:23,  3.04file/s] "
     ]
    }
   ],
   "source": [
    "process_smali_files()"
   ]
  }
 ],
 "metadata": {
  "kernelspec": {
   "display_name": "sdsa",
   "language": "python",
   "name": "python3"
  },
  "language_info": {
   "codemirror_mode": {
    "name": "ipython",
    "version": 3
   },
   "file_extension": ".py",
   "mimetype": "text/x-python",
   "name": "python",
   "nbconvert_exporter": "python",
   "pygments_lexer": "ipython3",
   "version": "3.12.3"
  }
 },
 "nbformat": 4,
 "nbformat_minor": 2
}
